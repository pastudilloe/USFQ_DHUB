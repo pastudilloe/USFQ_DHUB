{
 "cells": [
  {
   "cell_type": "code",
   "execution_count": 1,
   "id": "comfortable-belize",
   "metadata": {},
   "outputs": [],
   "source": [
    "import pandas as pd\n",
    "import numpy as np\n",
    "\n",
    "import plotly.express as px\n",
    "\n",
    "import seaborn as sns\n",
    "import matplotlib.pyplot as plt\n",
    "\n",
    "import os\n",
    "import glob\n",
    "\n",
    "%matplotlib inline"
   ]
  },
  {
   "cell_type": "markdown",
   "id": "focused-international",
   "metadata": {},
   "source": [
    "### LOAD DATA"
   ]
  },
  {
   "cell_type": "code",
   "execution_count": 2,
   "id": "qualified-force",
   "metadata": {},
   "outputs": [],
   "source": [
    "path = (\"/Users/pastudilloe/Library/CloudStorage/OneDrive-UniversidadSanFranciscodeQuito/USFQ Data Hub/DATA - USFQ Data Hub/\")"
   ]
  },
  {
   "cell_type": "code",
   "execution_count": 3,
   "id": "coordinate-processing",
   "metadata": {},
   "outputs": [
    {
     "name": "stdout",
     "output_type": "stream",
     "text": [
      "['emergencias_enero_2022.csv', 'emergencias_noviembre_2021.csv', 'emergencias_abril_2022.csv', 'emergencias_febrero_2022.csv', 'emergencias_septiembre_2021.csv', 'emergencias_agosto_2021.csv', 'emergencias_octubre_2021.csv', 'emergencias_julio2021.csv', 'emergencias_marzo_2022.csv', 'emergencias_diciembre_2021.csv']\n"
     ]
    }
   ],
   "source": [
    "extension = 'csv'\n",
    "os.chdir(path+'Files Open Data/')\n",
    "files = glob.glob('emergencias*.{}'.format(extension))\n",
    "print(files) "
   ]
  },
  {
   "cell_type": "code",
   "execution_count": 4,
   "id": "median-rochester",
   "metadata": {},
   "outputs": [
    {
     "name": "stderr",
     "output_type": "stream",
     "text": [
      "/Users/pastudilloe/opt/anaconda3/envs/py37/lib/python3.7/site-packages/IPython/core/interactiveshell.py:3457: DtypeWarning: Columns (0,1,2,4,5,6,8) have mixed types.Specify dtype option on import or set low_memory=False.\n",
      "  exec(code_obj, self.user_global_ns, self.user_ns)\n",
      "/Users/pastudilloe/opt/anaconda3/envs/py37/lib/python3.7/site-packages/IPython/core/interactiveshell.py:3457: DtypeWarning: Columns (7) have mixed types.Specify dtype option on import or set low_memory=False.\n",
      "  exec(code_obj, self.user_global_ns, self.user_ns)\n"
     ]
    }
   ],
   "source": [
    "JUL_2021 = pd.read_csv(path+'Files Open Data/emergencias_julio2021.csv', sep = ';', encoding='latin-1')\n",
    "AGO_2021 = pd.read_csv(path+'Files Open Data/emergencias_agosto_2021.csv', sep = ';', encoding='latin-1')\n",
    "SEP_2021 = pd.read_csv(path+'Files Open Data/emergencias_septiembre_2021.csv', sep = ';', encoding='latin-1')\n",
    "OCT_2021 = pd.read_csv(path+'Files Open Data/emergencias_octubre_2021.csv', sep = ';', encoding='latin-1')\n",
    "NOV_2021 = pd.read_csv(path+'Files Open Data/emergencias_noviembre_2021.csv', sep = ';', encoding='latin-1')\n",
    "DIC_2021 = pd.read_csv(path+'Files Open Data/emergencias_diciembre_2021.csv', sep = ';', encoding='latin-1')\n",
    "\n",
    "ENE_2022 = pd.read_csv(path+'Files Open Data/emergencias_enero_2022.csv', sep = ';', encoding='latin-1')\n",
    "FEB_2022 = pd.read_csv(path+'Files Open Data/emergencias_febrero_2022.csv', sep = ';', encoding='latin-1')\n",
    "MAR_2022 = pd.read_csv(path+'Files Open Data/emergencias_marzo_2022.csv', sep = ';', encoding='latin-1')\n",
    "ABR_2022 = pd.read_csv(path+'Files Open Data/emergencias_abril_2022.csv', sep = ';', encoding='latin-1')"
   ]
  },
  {
   "cell_type": "code",
   "execution_count": 5,
   "id": "treated-playlist",
   "metadata": {},
   "outputs": [],
   "source": [
    "JUL_2021 = JUL_2021.dropna(axis = 0, how = 'all')\n",
    "JUL_2021.rename({'Cod_Parroquia': 'COD_Parroquia'}, axis=1, inplace=True)\n",
    "\n",
    "AGO_2021 = AGO_2021.dropna(axis = 0, how = 'all')\n",
    "\n",
    "SEP_2021 = SEP_2021.dropna(axis = 0, how = 'all')\n",
    "SEP_2021.rename({'Cod_Parroquia': 'COD_Parroquia'}, axis=1, inplace=True)\n",
    "\n",
    "OCT_2021 = OCT_2021.dropna(axis = 0, how = 'all')\n",
    "OCT_2021.rename({'Parroquia': 'COD_Parroquia'}, axis=1, inplace=True)\n",
    "\n",
    "NOV_2021 = NOV_2021.dropna(axis = 0, how = 'all')\n",
    "NOV_2021.rename({'Cod_Parroquia': 'COD_Parroquia'}, axis=1, inplace=True)\n",
    "\n",
    "DIC_2021 = DIC_2021.dropna(axis = 0, how = 'all')\n",
    "DIC_2021.rename({'Cod_Parroquia': 'COD_Parroquia'}, axis=1, inplace=True)\n",
    "\n",
    "ENE_2022 = ENE_2022.dropna(axis = 0, how = 'all')\n",
    "ENE_2022.rename({'Cod_Parroquia': 'COD_Parroquia'}, axis=1, inplace=True)\n",
    "\n",
    "FEB_2022 = FEB_2022.dropna(axis = 0, how = 'all')\n",
    "FEB_2022.rename({'Cod_Parroquia': 'COD_Parroquia'}, axis=1, inplace=True)\n",
    "\n",
    "MAR_2022 = MAR_2022.dropna(axis = 0, how = 'all')\n",
    "MAR_2022.rename({'Cod_Parroquia': 'COD_Parroquia'}, axis=1, inplace=True)\n",
    "\n",
    "ABR_2022 = ABR_2022.dropna(axis = 0, how = 'all')\n",
    "ABR_2022.rename({'Cod_Parroquia': 'COD_Parroquia'}, axis=1, inplace=True)"
   ]
  },
  {
   "cell_type": "markdown",
   "id": "genuine-education",
   "metadata": {},
   "source": [
    "### PARROQUIAS"
   ]
  },
  {
   "cell_type": "code",
   "execution_count": 6,
   "id": "powerful-contemporary",
   "metadata": {},
   "outputs": [],
   "source": [
    "Pobl_Parroquias = pd.read_csv(path+'/GENERALES/POBLACION/Proyecciones de población PARROQUIAL 2010-2020.csv')\n",
    "\n",
    "Pobl_Parroquias.columns = ['Provincia', 'Canton', 'Parroquia', 'COD_Parroquia', '2010', '2011', '2012', '2013', '2014', '2015', '2016', '2017', '2018', '2019', 'year_2020']\n",
    "Pobl_Parroquias = Pobl_Parroquias[['Provincia', 'Canton', 'Parroquia', 'COD_Parroquia','year_2020']]\n",
    "\n",
    "Pobl_Parroquias = Pobl_Parroquias[Pobl_Parroquias.COD_Parroquia != 80850] # Borrar LA CONCORDIA (Esmeraldas)\n",
    "Pobl_Parroquias['year_2020'] = Pobl_Parroquias['year_2020'].str.split('.').str[0]\n",
    "\n",
    "Pobl_Parroquias['year_2020'] = Pobl_Parroquias['year_2020'].astype(int)\n"
   ]
  },
  {
   "cell_type": "markdown",
   "id": "apart-bicycle",
   "metadata": {},
   "source": [
    "### CANTONES"
   ]
  },
  {
   "cell_type": "code",
   "execution_count": 7,
   "id": "quality-cabin",
   "metadata": {},
   "outputs": [],
   "source": [
    "Pobl_Cantones = pd.read_excel(path+'/GENERALES/POBLACION/PROYECCIONES_REFERENCIALES _A_NIVEL_CANTONAL_PROVINCIAL_2010-2030.xlsx', skiprows = 3)\n",
    "Pobl_Cantones.columns = ['Provincia', 'Canton', 'COD_Canton', '2010', '2011', '2012', '2013', '2014', '2015', '2016', '2017', '2018', '2019', 'year_2020', '2021', '2022', '2023', '2024', '2025', '2026', '2027', '2028', '2029', '2030']\n",
    "Pobl_Cantones = Pobl_Cantones[['Provincia', 'Canton', 'COD_Canton','year_2020']]"
   ]
  },
  {
   "cell_type": "markdown",
   "id": "selective-september",
   "metadata": {},
   "source": [
    "# LIMPIEZA"
   ]
  },
  {
   "cell_type": "markdown",
   "id": "steady-condition",
   "metadata": {},
   "source": [
    "### JULIO 2021"
   ]
  },
  {
   "cell_type": "code",
   "execution_count": 8,
   "id": "strong-apartment",
   "metadata": {},
   "outputs": [],
   "source": [
    "JUL_2021 = JUL_2021[['IncidentTime_Fecha', 'provincia', 'Canton', 'COD_Parroquia', 'Parroquia', 'IncidentTypeName2', 'NewIncidentTypeName']]\n",
    "JUL_2021.columns = ['Fecha', 'provincia', 'Canton', 'COD_Parroquia', 'Parroquia', 'Servicio', 'Subtipo']\n",
    "\n",
    "JUL_2021[['Anio', 'Mes', 'Dia']] = JUL_2021['Fecha'].str.split('-', expand=True)\n",
    "JUL_2021['COD_Parroquia'] = JUL_2021['COD_Parroquia'].astype(str)\n",
    "JUL_2021['COD_Parroquia'] = JUL_2021['COD_Parroquia'].str.split('.').str[0]\n",
    "\n",
    "JUL_2021['COD_Provincia'], JUL_2021['COD_Canton']= JUL_2021['COD_Parroquia'].str[:-4], JUL_2021['COD_Parroquia'].str[-4:-2]\n",
    "JUL_2021['COD_Canton']= JUL_2021['COD_Provincia']+JUL_2021['COD_Canton']\n",
    "\n",
    "JUL_2021['Incidente'] = 1 "
   ]
  },
  {
   "cell_type": "markdown",
   "id": "viral-moral",
   "metadata": {},
   "source": [
    "### AGOSTO 2021"
   ]
  },
  {
   "cell_type": "code",
   "execution_count": 9,
   "id": "clear-analyst",
   "metadata": {},
   "outputs": [],
   "source": [
    "AGO_2021 = AGO_2021[['incidentTimeFecha', 'provincia', 'Canton', 'codParroquia', 'Parroquia', 'IncidentTypeName2', 'NewIncidentTypeName']]\n",
    "AGO_2021.columns = ['Fecha', 'provincia', 'Canton', 'COD_Parroquia', 'Parroquia', 'Servicio', 'Subtipo']\n",
    "\n",
    "AGO_2021[['Anio', 'Mes', 'Dia']] = AGO_2021['Fecha'].str.split('-', expand=True)\n",
    "AGO_2021['COD_Parroquia'] = AGO_2021['COD_Parroquia'].astype(str)\n",
    "AGO_2021['COD_Parroquia'] = AGO_2021['COD_Parroquia'].str.split('.').str[0]\n",
    "\n",
    "AGO_2021['COD_Provincia'], AGO_2021['COD_Canton']= AGO_2021['COD_Parroquia'].str[:-4], AGO_2021['COD_Parroquia'].str[-4:-2]\n",
    "AGO_2021['COD_Canton']= AGO_2021['COD_Provincia']+AGO_2021['COD_Canton']\n",
    "\n",
    "AGO_2021['Incidente'] = 1 \n"
   ]
  },
  {
   "cell_type": "markdown",
   "id": "fifth-scratch",
   "metadata": {},
   "source": [
    "### SEPTIEMBRE 2021"
   ]
  },
  {
   "cell_type": "code",
   "execution_count": 10,
   "id": "valuable-adolescent",
   "metadata": {},
   "outputs": [],
   "source": [
    "SEP_2021[['Anio', 'Mes', 'Dia']] = SEP_2021['Fecha'].str.split('-', expand=True)\n",
    "SEP_2021['COD_Parroquia'] = SEP_2021['COD_Parroquia'].astype(str)\n",
    "SEP_2021['COD_Parroquia'] = SEP_2021['COD_Parroquia'].str.split('.').str[0]\n",
    "\n",
    "SEP_2021['COD_Provincia'], SEP_2021['COD_Canton']= SEP_2021['COD_Parroquia'].str[:-4], SEP_2021['COD_Parroquia'].str[-4:-2]\n",
    "SEP_2021['COD_Canton']= SEP_2021['COD_Provincia']+SEP_2021['COD_Canton']\n",
    "\n",
    "SEP_2021['Incidente'] = 1 \n"
   ]
  },
  {
   "cell_type": "markdown",
   "id": "greater-station",
   "metadata": {},
   "source": [
    "### OCTUBRE 2021"
   ]
  },
  {
   "cell_type": "code",
   "execution_count": 11,
   "id": "small-simon",
   "metadata": {},
   "outputs": [],
   "source": [
    "OCT_2021.columns = ['Fecha', 'provincia', 'Canton', 'Parroquia', 'COD_Parroquia', 'Servicio', 'Subtipo', 'erase']\n",
    "OCT_2021 = OCT_2021[['Fecha', 'provincia', 'Canton', 'Parroquia', 'COD_Parroquia', 'Servicio', 'Subtipo']]\n",
    "\n",
    "OCT_2021[['Anio', 'Mes', 'Dia']] = OCT_2021['Fecha'].str.split('-', expand=True)\n",
    "OCT_2021['COD_Parroquia'] = OCT_2021['COD_Parroquia'].astype(str)\n",
    "OCT_2021['COD_Parroquia'] = OCT_2021['COD_Parroquia'].str.split('.').str[0]\n",
    "\n",
    "OCT_2021['COD_Provincia'], OCT_2021['COD_Canton']= OCT_2021['COD_Parroquia'].str[:-4], OCT_2021['COD_Parroquia'].str[-4:-2]\n",
    "OCT_2021['COD_Canton']= OCT_2021['COD_Provincia']+OCT_2021['COD_Canton']\n",
    "\n",
    "OCT_2021['Incidente'] = 1 \n"
   ]
  },
  {
   "cell_type": "markdown",
   "id": "rising-research",
   "metadata": {},
   "source": [
    "### NOVIEMBRE 2021"
   ]
  },
  {
   "cell_type": "code",
   "execution_count": 12,
   "id": "dependent-carter",
   "metadata": {},
   "outputs": [],
   "source": [
    "NOV_2021[['Anio', 'Mes', 'Dia']] = NOV_2021['Fecha'].str.split('-', expand=True)\n",
    "NOV_2021['COD_Parroquia'] = NOV_2021['COD_Parroquia'].astype(str)\n",
    "NOV_2021['COD_Parroquia'] = NOV_2021['COD_Parroquia'].str.split('.').str[0]\n",
    "\n",
    "NOV_2021['COD_Provincia'], NOV_2021['COD_Canton']= NOV_2021['COD_Parroquia'].str[:-4], NOV_2021['COD_Parroquia'].str[-4:-2]\n",
    "NOV_2021['COD_Canton']= NOV_2021['COD_Provincia']+NOV_2021['COD_Canton']\n",
    "\n",
    "NOV_2021['Incidente'] = 1 \n"
   ]
  },
  {
   "cell_type": "markdown",
   "id": "forward-puzzle",
   "metadata": {},
   "source": [
    "### DICIEMBRE 2021"
   ]
  },
  {
   "cell_type": "code",
   "execution_count": 13,
   "id": "therapeutic-memorabilia",
   "metadata": {},
   "outputs": [],
   "source": [
    "DIC_2021[['Dia', 'Mes', 'Anio']] = DIC_2021['Fecha'].str.split('/', expand=True)\n",
    "DIC_2021['COD_Parroquia'] = DIC_2021['COD_Parroquia'].astype(str)\n",
    "DIC_2021['COD_Parroquia'] = DIC_2021['COD_Parroquia'].str.split('.').str[0]\n",
    "\n",
    "DIC_2021['COD_Provincia'], DIC_2021['COD_Canton']= DIC_2021['COD_Parroquia'].str[:-4], DIC_2021['COD_Parroquia'].str[-4:-2]\n",
    "DIC_2021['COD_Canton']= DIC_2021['COD_Provincia']+DIC_2021['COD_Canton']\n",
    "\n",
    "DIC_2021['Incidente'] = 1 \n"
   ]
  },
  {
   "cell_type": "markdown",
   "id": "eleven-dover",
   "metadata": {},
   "source": [
    "### ENERO 2022"
   ]
  },
  {
   "cell_type": "code",
   "execution_count": 14,
   "id": "abandoned-recorder",
   "metadata": {},
   "outputs": [],
   "source": [
    "ENE_2022[['Dia', 'Mes', 'Anio']] = ENE_2022['Fecha'].str.split('/', expand=True)\n",
    "ENE_2022['COD_Parroquia'] = ENE_2022['COD_Parroquia'].astype(str)\n",
    "ENE_2022['COD_Parroquia'] = ENE_2022['COD_Parroquia'].str.split('.').str[0]\n",
    "\n",
    "ENE_2022['COD_Provincia'], ENE_2022['COD_Canton']= ENE_2022['COD_Parroquia'].str[:-4], ENE_2022['COD_Parroquia'].str[-4:-2]\n",
    "ENE_2022['COD_Canton']= ENE_2022['COD_Provincia']+ENE_2022['COD_Canton']\n",
    "\n",
    "ENE_2022['Incidente'] = 1 \n"
   ]
  },
  {
   "cell_type": "markdown",
   "id": "iraqi-polyester",
   "metadata": {},
   "source": [
    "### FEBRERO 2022"
   ]
  },
  {
   "cell_type": "code",
   "execution_count": 15,
   "id": "integrated-integrity",
   "metadata": {},
   "outputs": [],
   "source": [
    "FEB_2022[['Dia', 'Mes', 'Anio']] = FEB_2022['Fecha'].str.split('/', expand=True)\n",
    "FEB_2022['COD_Parroquia'] = FEB_2022['COD_Parroquia'].astype(str)\n",
    "FEB_2022['COD_Parroquia'] = FEB_2022['COD_Parroquia'].str.split('.').str[0]\n",
    "\n",
    "FEB_2022['COD_Provincia'], FEB_2022['COD_Canton']= FEB_2022['COD_Parroquia'].str[:-4], FEB_2022['COD_Parroquia'].str[-4:-2]\n",
    "FEB_2022['COD_Canton']= FEB_2022['COD_Provincia']+FEB_2022['COD_Canton']\n",
    "\n",
    "FEB_2022['Incidente'] = 1 \n"
   ]
  },
  {
   "cell_type": "markdown",
   "id": "historic-thesaurus",
   "metadata": {},
   "source": [
    "### MARZO 2022"
   ]
  },
  {
   "cell_type": "code",
   "execution_count": 16,
   "id": "sapphire-treasury",
   "metadata": {},
   "outputs": [],
   "source": [
    "MAR_2022[['Dia', 'Mes', 'Anio']] = MAR_2022['Fecha'].str.split('/', expand=True)\n",
    "MAR_2022['COD_Parroquia'] = MAR_2022['COD_Parroquia'].astype(str)\n",
    "MAR_2022['COD_Parroquia'] = MAR_2022['COD_Parroquia'].str.split('.').str[0]\n",
    "\n",
    "MAR_2022['COD_Provincia'], MAR_2022['COD_Canton']= MAR_2022['COD_Parroquia'].str[:-4], MAR_2022['COD_Parroquia'].str[-4:-2]\n",
    "MAR_2022['COD_Canton']= MAR_2022['COD_Provincia']+MAR_2022['COD_Canton']\n",
    "\n",
    "MAR_2022['Incidente'] = 1 \n"
   ]
  },
  {
   "cell_type": "markdown",
   "id": "derived-montana",
   "metadata": {},
   "source": [
    "### ABRIL 2022"
   ]
  },
  {
   "cell_type": "code",
   "execution_count": 17,
   "id": "superior-grill",
   "metadata": {},
   "outputs": [],
   "source": [
    "ABR_2022[['Dia', 'Mes', 'Anio']] = ABR_2022['Fecha'].str.split('/', expand=True)\n",
    "ABR_2022['COD_Parroquia'] = ABR_2022['COD_Parroquia'].astype(str)\n",
    "ABR_2022['COD_Parroquia'] = ABR_2022['COD_Parroquia'].str.split('.').str[0]\n",
    "\n",
    "ABR_2022['COD_Provincia'], ABR_2022['COD_Canton']= ABR_2022['COD_Parroquia'].str[:-4], ABR_2022['COD_Parroquia'].str[-4:-2]\n",
    "ABR_2022['COD_Canton']= ABR_2022['COD_Provincia']+ABR_2022['COD_Canton']\n",
    "\n",
    "ABR_2022['Incidente'] = 1 \n"
   ]
  },
  {
   "cell_type": "markdown",
   "id": "random-luxembourg",
   "metadata": {},
   "source": [
    "# PROCESAMIENTO"
   ]
  },
  {
   "cell_type": "code",
   "execution_count": 18,
   "id": "miniature-approach",
   "metadata": {},
   "outputs": [],
   "source": [
    "pdList = [JUL_2021, AGO_2021, SEP_2021, OCT_2021, NOV_2021, DIC_2021, ENE_2022, FEB_2022, MAR_2022, ABR_2022]  # List of your dataframes\n",
    "DATA = pd.concat(pdList)"
   ]
  },
  {
   "cell_type": "code",
   "execution_count": 19,
   "id": "supported-comfort",
   "metadata": {},
   "outputs": [],
   "source": [
    "DATA = DATA[['Anio', 'Mes', 'COD_Provincia', 'COD_Canton', 'COD_Parroquia', 'Servicio', 'Subtipo', 'Incidente']]"
   ]
  },
  {
   "cell_type": "code",
   "execution_count": 20,
   "id": "coordinated-snake",
   "metadata": {},
   "outputs": [
    {
     "data": {
      "text/html": [
       "<div>\n",
       "<style scoped>\n",
       "    .dataframe tbody tr th:only-of-type {\n",
       "        vertical-align: middle;\n",
       "    }\n",
       "\n",
       "    .dataframe tbody tr th {\n",
       "        vertical-align: top;\n",
       "    }\n",
       "\n",
       "    .dataframe thead th {\n",
       "        text-align: right;\n",
       "    }\n",
       "</style>\n",
       "<table border=\"1\" class=\"dataframe\">\n",
       "  <thead>\n",
       "    <tr style=\"text-align: right;\">\n",
       "      <th></th>\n",
       "      <th>Anio</th>\n",
       "      <th>Mes</th>\n",
       "      <th>COD_Provincia</th>\n",
       "      <th>COD_Canton</th>\n",
       "      <th>COD_Parroquia</th>\n",
       "      <th>Servicio</th>\n",
       "      <th>Subtipo</th>\n",
       "      <th>Incidente</th>\n",
       "    </tr>\n",
       "  </thead>\n",
       "  <tbody>\n",
       "    <tr>\n",
       "      <th>0</th>\n",
       "      <td>2021</td>\n",
       "      <td>07</td>\n",
       "      <td>9</td>\n",
       "      <td>901</td>\n",
       "      <td>90150</td>\n",
       "      <td>Seguridad Ciudadana</td>\n",
       "      <td>Libadores</td>\n",
       "      <td>1</td>\n",
       "    </tr>\n",
       "    <tr>\n",
       "      <th>1</th>\n",
       "      <td>2021</td>\n",
       "      <td>07</td>\n",
       "      <td>9</td>\n",
       "      <td>906</td>\n",
       "      <td>90650</td>\n",
       "      <td>Seguridad Ciudadana</td>\n",
       "      <td>Escándalo en espacio privado</td>\n",
       "      <td>1</td>\n",
       "    </tr>\n",
       "    <tr>\n",
       "      <th>2</th>\n",
       "      <td>2021</td>\n",
       "      <td>07</td>\n",
       "      <td>9</td>\n",
       "      <td>909</td>\n",
       "      <td>90950</td>\n",
       "      <td>Seguridad Ciudadana</td>\n",
       "      <td>Escándalo en espacio privado</td>\n",
       "      <td>1</td>\n",
       "    </tr>\n",
       "    <tr>\n",
       "      <th>3</th>\n",
       "      <td>2021</td>\n",
       "      <td>07</td>\n",
       "      <td>9</td>\n",
       "      <td>920</td>\n",
       "      <td>92050</td>\n",
       "      <td>Seguridad Ciudadana</td>\n",
       "      <td>Patrullaje policial en el sector solicitado</td>\n",
       "      <td>1</td>\n",
       "    </tr>\n",
       "    <tr>\n",
       "      <th>4</th>\n",
       "      <td>2021</td>\n",
       "      <td>07</td>\n",
       "      <td>9</td>\n",
       "      <td>901</td>\n",
       "      <td>90150</td>\n",
       "      <td>Seguridad Ciudadana</td>\n",
       "      <td>Presencia policial</td>\n",
       "      <td>1</td>\n",
       "    </tr>\n",
       "  </tbody>\n",
       "</table>\n",
       "</div>"
      ],
      "text/plain": [
       "   Anio Mes COD_Provincia COD_Canton COD_Parroquia             Servicio  \\\n",
       "0  2021  07             9        901         90150  Seguridad Ciudadana   \n",
       "1  2021  07             9        906         90650  Seguridad Ciudadana   \n",
       "2  2021  07             9        909         90950  Seguridad Ciudadana   \n",
       "3  2021  07             9        920         92050  Seguridad Ciudadana   \n",
       "4  2021  07             9        901         90150  Seguridad Ciudadana   \n",
       "\n",
       "                                       Subtipo  Incidente  \n",
       "0                                    Libadores          1  \n",
       "1                 Escándalo en espacio privado          1  \n",
       "2                 Escándalo en espacio privado          1  \n",
       "3  Patrullaje policial en el sector solicitado          1  \n",
       "4                           Presencia policial          1  "
      ]
     },
     "execution_count": 20,
     "metadata": {},
     "output_type": "execute_result"
    }
   ],
   "source": [
    "DATA.head()"
   ]
  },
  {
   "cell_type": "code",
   "execution_count": 21,
   "id": "scheduled-audience",
   "metadata": {},
   "outputs": [],
   "source": [
    "DATA = DATA[DATA.COD_Parroquia != \"0\"] #PAY ATTENTION TO THIS. I´m erasing the incomplete registries. We need to use this to estimate an error range\n",
    "DATA = DATA[DATA.COD_Provincia != \"\"] #PAY ATTENTION TO THIS. I´m erasing the incomplete registries. We need to use this to estimate an error range\n",
    "\n",
    "DATA['COD_Parroquia'] = DATA['COD_Parroquia'].astype(int)\n",
    "DATA['COD_Canton'] = DATA['COD_Canton'].astype(int)"
   ]
  },
  {
   "cell_type": "code",
   "execution_count": 22,
   "id": "chicken-satisfaction",
   "metadata": {},
   "outputs": [],
   "source": [
    "#DATA = DATA[DATA.Mes == \"01\"] # ESCOGER EL MES"
   ]
  },
  {
   "cell_type": "markdown",
   "id": "fundamental-robinson",
   "metadata": {},
   "source": [
    "## Incidentes TOTALES"
   ]
  },
  {
   "cell_type": "code",
   "execution_count": 23,
   "id": "bulgarian-beauty",
   "metadata": {},
   "outputs": [],
   "source": [
    "data_total = DATA.groupby(['Servicio', 'Subtipo']).agg({'Incidente':'sum'}).reset_index()\n",
    "data_total = data_total.sort_values(by=\"Incidente\", ascending = False)"
   ]
  },
  {
   "cell_type": "code",
   "execution_count": 37,
   "id": "weighted-australia",
   "metadata": {},
   "outputs": [],
   "source": [
    "data_total_20 = data_total.head(10)"
   ]
  },
  {
   "cell_type": "code",
   "execution_count": 39,
   "id": "641ba884-91dc-4945-90a6-41522107ecd1",
   "metadata": {},
   "outputs": [
    {
     "data": {
      "text/html": [
       "<div>\n",
       "<style scoped>\n",
       "    .dataframe tbody tr th:only-of-type {\n",
       "        vertical-align: middle;\n",
       "    }\n",
       "\n",
       "    .dataframe tbody tr th {\n",
       "        vertical-align: top;\n",
       "    }\n",
       "\n",
       "    .dataframe thead th {\n",
       "        text-align: right;\n",
       "    }\n",
       "</style>\n",
       "<table border=\"1\" class=\"dataframe\">\n",
       "  <thead>\n",
       "    <tr style=\"text-align: right;\">\n",
       "      <th></th>\n",
       "      <th>Servicio</th>\n",
       "      <th>Subtipo</th>\n",
       "      <th>Incidente</th>\n",
       "    </tr>\n",
       "  </thead>\n",
       "  <tbody>\n",
       "    <tr>\n",
       "      <th>355</th>\n",
       "      <td>Seguridad Ciudadana</td>\n",
       "      <td>Patrullaje policial en el sector solicitado</td>\n",
       "      <td>740902</td>\n",
       "    </tr>\n",
       "    <tr>\n",
       "      <th>336</th>\n",
       "      <td>Seguridad Ciudadana</td>\n",
       "      <td>Libadores</td>\n",
       "      <td>297751</td>\n",
       "    </tr>\n",
       "    <tr>\n",
       "      <th>368</th>\n",
       "      <td>Seguridad Ciudadana</td>\n",
       "      <td>Presencia policial</td>\n",
       "      <td>163761</td>\n",
       "    </tr>\n",
       "    <tr>\n",
       "      <th>292</th>\n",
       "      <td>Seguridad Ciudadana</td>\n",
       "      <td>Escándalo en espacio público</td>\n",
       "      <td>130721</td>\n",
       "    </tr>\n",
       "    <tr>\n",
       "      <th>381</th>\n",
       "      <td>Seguridad Ciudadana</td>\n",
       "      <td>Resguardo a personas que traslada valores a ni...</td>\n",
       "      <td>122482</td>\n",
       "    </tr>\n",
       "    <tr>\n",
       "      <th>379</th>\n",
       "      <td>Seguridad Ciudadana</td>\n",
       "      <td>Registro de personas y/o vehículos con actitud...</td>\n",
       "      <td>75693</td>\n",
       "    </tr>\n",
       "    <tr>\n",
       "      <th>291</th>\n",
       "      <td>Seguridad Ciudadana</td>\n",
       "      <td>Escándalo en espacio privado</td>\n",
       "      <td>68858</td>\n",
       "    </tr>\n",
       "    <tr>\n",
       "      <th>321</th>\n",
       "      <td>Seguridad Ciudadana</td>\n",
       "      <td>Ficha de datos información</td>\n",
       "      <td>56427</td>\n",
       "    </tr>\n",
       "    <tr>\n",
       "      <th>447</th>\n",
       "      <td>Seguridad Ciudadana</td>\n",
       "      <td>Violencia contra la mujer o miembros del núcle...</td>\n",
       "      <td>54916</td>\n",
       "    </tr>\n",
       "    <tr>\n",
       "      <th>251</th>\n",
       "      <td>Seguridad Ciudadana</td>\n",
       "      <td>Consumo de sustancias sujetas a fiscalización</td>\n",
       "      <td>47989</td>\n",
       "    </tr>\n",
       "  </tbody>\n",
       "</table>\n",
       "</div>"
      ],
      "text/plain": [
       "                Servicio                                            Subtipo  \\\n",
       "355  Seguridad Ciudadana        Patrullaje policial en el sector solicitado   \n",
       "336  Seguridad Ciudadana                                          Libadores   \n",
       "368  Seguridad Ciudadana                                 Presencia policial   \n",
       "292  Seguridad Ciudadana                       Escándalo en espacio público   \n",
       "381  Seguridad Ciudadana  Resguardo a personas que traslada valores a ni...   \n",
       "379  Seguridad Ciudadana  Registro de personas y/o vehículos con actitud...   \n",
       "291  Seguridad Ciudadana                       Escándalo en espacio privado   \n",
       "321  Seguridad Ciudadana                         Ficha de datos información   \n",
       "447  Seguridad Ciudadana  Violencia contra la mujer o miembros del núcle...   \n",
       "251  Seguridad Ciudadana      Consumo de sustancias sujetas a fiscalización   \n",
       "\n",
       "     Incidente  \n",
       "355     740902  \n",
       "336     297751  \n",
       "368     163761  \n",
       "292     130721  \n",
       "381     122482  \n",
       "379      75693  \n",
       "291      68858  \n",
       "321      56427  \n",
       "447      54916  \n",
       "251      47989  "
      ]
     },
     "execution_count": 39,
     "metadata": {},
     "output_type": "execute_result"
    }
   ],
   "source": [
    "data_total_20"
   ]
  },
  {
   "cell_type": "code",
   "execution_count": 45,
   "id": "connected-gibraltar",
   "metadata": {},
   "outputs": [
    {
     "data": {
      "application/vnd.plotly.v1+json": {
       "config": {
        "plotlyServerURL": "https://plot.ly"
       },
       "data": [
        {
         "alignmentgroup": "True",
         "hovertemplate": "Subtipo=%{x}<br>Incidente=%{y}<extra></extra>",
         "legendgroup": "",
         "marker": {
          "color": "#636efa",
          "pattern": {
           "shape": ""
          }
         },
         "name": "",
         "offsetgroup": "",
         "orientation": "v",
         "showlegend": false,
         "textposition": "auto",
         "type": "bar",
         "x": [
          "Patrullaje policial en el sector solicitado",
          "Libadores",
          "Presencia policial",
          "Escándalo en espacio público",
          "Resguardo a personas que traslada valores a nivel local",
          "Registro de personas y/o vehículos con actitud sospechosa",
          "Escándalo en espacio privado",
          "Ficha de datos información",
          "Violencia contra la mujer o miembros del núcleo familiar psicológica",
          "Consumo de sustancias sujetas a fiscalización"
         ],
         "xaxis": "x",
         "y": [
          740902,
          297751,
          163761,
          130721,
          122482,
          75693,
          68858,
          56427,
          54916,
          47989
         ],
         "yaxis": "y"
        }
       ],
       "layout": {
        "barmode": "relative",
        "height": 600,
        "legend": {
         "tracegroupgap": 0
        },
        "margin": {
         "t": 60
        },
        "template": {
         "data": {
          "bar": [
           {
            "error_x": {
             "color": "#2a3f5f"
            },
            "error_y": {
             "color": "#2a3f5f"
            },
            "marker": {
             "line": {
              "color": "#E5ECF6",
              "width": 0.5
             },
             "pattern": {
              "fillmode": "overlay",
              "size": 10,
              "solidity": 0.2
             }
            },
            "type": "bar"
           }
          ],
          "barpolar": [
           {
            "marker": {
             "line": {
              "color": "#E5ECF6",
              "width": 0.5
             },
             "pattern": {
              "fillmode": "overlay",
              "size": 10,
              "solidity": 0.2
             }
            },
            "type": "barpolar"
           }
          ],
          "carpet": [
           {
            "aaxis": {
             "endlinecolor": "#2a3f5f",
             "gridcolor": "white",
             "linecolor": "white",
             "minorgridcolor": "white",
             "startlinecolor": "#2a3f5f"
            },
            "baxis": {
             "endlinecolor": "#2a3f5f",
             "gridcolor": "white",
             "linecolor": "white",
             "minorgridcolor": "white",
             "startlinecolor": "#2a3f5f"
            },
            "type": "carpet"
           }
          ],
          "choropleth": [
           {
            "colorbar": {
             "outlinewidth": 0,
             "ticks": ""
            },
            "type": "choropleth"
           }
          ],
          "contour": [
           {
            "colorbar": {
             "outlinewidth": 0,
             "ticks": ""
            },
            "colorscale": [
             [
              0,
              "#0d0887"
             ],
             [
              0.1111111111111111,
              "#46039f"
             ],
             [
              0.2222222222222222,
              "#7201a8"
             ],
             [
              0.3333333333333333,
              "#9c179e"
             ],
             [
              0.4444444444444444,
              "#bd3786"
             ],
             [
              0.5555555555555556,
              "#d8576b"
             ],
             [
              0.6666666666666666,
              "#ed7953"
             ],
             [
              0.7777777777777778,
              "#fb9f3a"
             ],
             [
              0.8888888888888888,
              "#fdca26"
             ],
             [
              1,
              "#f0f921"
             ]
            ],
            "type": "contour"
           }
          ],
          "contourcarpet": [
           {
            "colorbar": {
             "outlinewidth": 0,
             "ticks": ""
            },
            "type": "contourcarpet"
           }
          ],
          "heatmap": [
           {
            "colorbar": {
             "outlinewidth": 0,
             "ticks": ""
            },
            "colorscale": [
             [
              0,
              "#0d0887"
             ],
             [
              0.1111111111111111,
              "#46039f"
             ],
             [
              0.2222222222222222,
              "#7201a8"
             ],
             [
              0.3333333333333333,
              "#9c179e"
             ],
             [
              0.4444444444444444,
              "#bd3786"
             ],
             [
              0.5555555555555556,
              "#d8576b"
             ],
             [
              0.6666666666666666,
              "#ed7953"
             ],
             [
              0.7777777777777778,
              "#fb9f3a"
             ],
             [
              0.8888888888888888,
              "#fdca26"
             ],
             [
              1,
              "#f0f921"
             ]
            ],
            "type": "heatmap"
           }
          ],
          "heatmapgl": [
           {
            "colorbar": {
             "outlinewidth": 0,
             "ticks": ""
            },
            "colorscale": [
             [
              0,
              "#0d0887"
             ],
             [
              0.1111111111111111,
              "#46039f"
             ],
             [
              0.2222222222222222,
              "#7201a8"
             ],
             [
              0.3333333333333333,
              "#9c179e"
             ],
             [
              0.4444444444444444,
              "#bd3786"
             ],
             [
              0.5555555555555556,
              "#d8576b"
             ],
             [
              0.6666666666666666,
              "#ed7953"
             ],
             [
              0.7777777777777778,
              "#fb9f3a"
             ],
             [
              0.8888888888888888,
              "#fdca26"
             ],
             [
              1,
              "#f0f921"
             ]
            ],
            "type": "heatmapgl"
           }
          ],
          "histogram": [
           {
            "marker": {
             "pattern": {
              "fillmode": "overlay",
              "size": 10,
              "solidity": 0.2
             }
            },
            "type": "histogram"
           }
          ],
          "histogram2d": [
           {
            "colorbar": {
             "outlinewidth": 0,
             "ticks": ""
            },
            "colorscale": [
             [
              0,
              "#0d0887"
             ],
             [
              0.1111111111111111,
              "#46039f"
             ],
             [
              0.2222222222222222,
              "#7201a8"
             ],
             [
              0.3333333333333333,
              "#9c179e"
             ],
             [
              0.4444444444444444,
              "#bd3786"
             ],
             [
              0.5555555555555556,
              "#d8576b"
             ],
             [
              0.6666666666666666,
              "#ed7953"
             ],
             [
              0.7777777777777778,
              "#fb9f3a"
             ],
             [
              0.8888888888888888,
              "#fdca26"
             ],
             [
              1,
              "#f0f921"
             ]
            ],
            "type": "histogram2d"
           }
          ],
          "histogram2dcontour": [
           {
            "colorbar": {
             "outlinewidth": 0,
             "ticks": ""
            },
            "colorscale": [
             [
              0,
              "#0d0887"
             ],
             [
              0.1111111111111111,
              "#46039f"
             ],
             [
              0.2222222222222222,
              "#7201a8"
             ],
             [
              0.3333333333333333,
              "#9c179e"
             ],
             [
              0.4444444444444444,
              "#bd3786"
             ],
             [
              0.5555555555555556,
              "#d8576b"
             ],
             [
              0.6666666666666666,
              "#ed7953"
             ],
             [
              0.7777777777777778,
              "#fb9f3a"
             ],
             [
              0.8888888888888888,
              "#fdca26"
             ],
             [
              1,
              "#f0f921"
             ]
            ],
            "type": "histogram2dcontour"
           }
          ],
          "mesh3d": [
           {
            "colorbar": {
             "outlinewidth": 0,
             "ticks": ""
            },
            "type": "mesh3d"
           }
          ],
          "parcoords": [
           {
            "line": {
             "colorbar": {
              "outlinewidth": 0,
              "ticks": ""
             }
            },
            "type": "parcoords"
           }
          ],
          "pie": [
           {
            "automargin": true,
            "type": "pie"
           }
          ],
          "scatter": [
           {
            "fillpattern": {
             "fillmode": "overlay",
             "size": 10,
             "solidity": 0.2
            },
            "type": "scatter"
           }
          ],
          "scatter3d": [
           {
            "line": {
             "colorbar": {
              "outlinewidth": 0,
              "ticks": ""
             }
            },
            "marker": {
             "colorbar": {
              "outlinewidth": 0,
              "ticks": ""
             }
            },
            "type": "scatter3d"
           }
          ],
          "scattercarpet": [
           {
            "marker": {
             "colorbar": {
              "outlinewidth": 0,
              "ticks": ""
             }
            },
            "type": "scattercarpet"
           }
          ],
          "scattergeo": [
           {
            "marker": {
             "colorbar": {
              "outlinewidth": 0,
              "ticks": ""
             }
            },
            "type": "scattergeo"
           }
          ],
          "scattergl": [
           {
            "marker": {
             "colorbar": {
              "outlinewidth": 0,
              "ticks": ""
             }
            },
            "type": "scattergl"
           }
          ],
          "scattermapbox": [
           {
            "marker": {
             "colorbar": {
              "outlinewidth": 0,
              "ticks": ""
             }
            },
            "type": "scattermapbox"
           }
          ],
          "scatterpolar": [
           {
            "marker": {
             "colorbar": {
              "outlinewidth": 0,
              "ticks": ""
             }
            },
            "type": "scatterpolar"
           }
          ],
          "scatterpolargl": [
           {
            "marker": {
             "colorbar": {
              "outlinewidth": 0,
              "ticks": ""
             }
            },
            "type": "scatterpolargl"
           }
          ],
          "scatterternary": [
           {
            "marker": {
             "colorbar": {
              "outlinewidth": 0,
              "ticks": ""
             }
            },
            "type": "scatterternary"
           }
          ],
          "surface": [
           {
            "colorbar": {
             "outlinewidth": 0,
             "ticks": ""
            },
            "colorscale": [
             [
              0,
              "#0d0887"
             ],
             [
              0.1111111111111111,
              "#46039f"
             ],
             [
              0.2222222222222222,
              "#7201a8"
             ],
             [
              0.3333333333333333,
              "#9c179e"
             ],
             [
              0.4444444444444444,
              "#bd3786"
             ],
             [
              0.5555555555555556,
              "#d8576b"
             ],
             [
              0.6666666666666666,
              "#ed7953"
             ],
             [
              0.7777777777777778,
              "#fb9f3a"
             ],
             [
              0.8888888888888888,
              "#fdca26"
             ],
             [
              1,
              "#f0f921"
             ]
            ],
            "type": "surface"
           }
          ],
          "table": [
           {
            "cells": {
             "fill": {
              "color": "#EBF0F8"
             },
             "line": {
              "color": "white"
             }
            },
            "header": {
             "fill": {
              "color": "#C8D4E3"
             },
             "line": {
              "color": "white"
             }
            },
            "type": "table"
           }
          ]
         },
         "layout": {
          "annotationdefaults": {
           "arrowcolor": "#2a3f5f",
           "arrowhead": 0,
           "arrowwidth": 1
          },
          "autotypenumbers": "strict",
          "coloraxis": {
           "colorbar": {
            "outlinewidth": 0,
            "ticks": ""
           }
          },
          "colorscale": {
           "diverging": [
            [
             0,
             "#8e0152"
            ],
            [
             0.1,
             "#c51b7d"
            ],
            [
             0.2,
             "#de77ae"
            ],
            [
             0.3,
             "#f1b6da"
            ],
            [
             0.4,
             "#fde0ef"
            ],
            [
             0.5,
             "#f7f7f7"
            ],
            [
             0.6,
             "#e6f5d0"
            ],
            [
             0.7,
             "#b8e186"
            ],
            [
             0.8,
             "#7fbc41"
            ],
            [
             0.9,
             "#4d9221"
            ],
            [
             1,
             "#276419"
            ]
           ],
           "sequential": [
            [
             0,
             "#0d0887"
            ],
            [
             0.1111111111111111,
             "#46039f"
            ],
            [
             0.2222222222222222,
             "#7201a8"
            ],
            [
             0.3333333333333333,
             "#9c179e"
            ],
            [
             0.4444444444444444,
             "#bd3786"
            ],
            [
             0.5555555555555556,
             "#d8576b"
            ],
            [
             0.6666666666666666,
             "#ed7953"
            ],
            [
             0.7777777777777778,
             "#fb9f3a"
            ],
            [
             0.8888888888888888,
             "#fdca26"
            ],
            [
             1,
             "#f0f921"
            ]
           ],
           "sequentialminus": [
            [
             0,
             "#0d0887"
            ],
            [
             0.1111111111111111,
             "#46039f"
            ],
            [
             0.2222222222222222,
             "#7201a8"
            ],
            [
             0.3333333333333333,
             "#9c179e"
            ],
            [
             0.4444444444444444,
             "#bd3786"
            ],
            [
             0.5555555555555556,
             "#d8576b"
            ],
            [
             0.6666666666666666,
             "#ed7953"
            ],
            [
             0.7777777777777778,
             "#fb9f3a"
            ],
            [
             0.8888888888888888,
             "#fdca26"
            ],
            [
             1,
             "#f0f921"
            ]
           ]
          },
          "colorway": [
           "#636efa",
           "#EF553B",
           "#00cc96",
           "#ab63fa",
           "#FFA15A",
           "#19d3f3",
           "#FF6692",
           "#B6E880",
           "#FF97FF",
           "#FECB52"
          ],
          "font": {
           "color": "#2a3f5f"
          },
          "geo": {
           "bgcolor": "white",
           "lakecolor": "white",
           "landcolor": "#E5ECF6",
           "showlakes": true,
           "showland": true,
           "subunitcolor": "white"
          },
          "hoverlabel": {
           "align": "left"
          },
          "hovermode": "closest",
          "mapbox": {
           "style": "light"
          },
          "paper_bgcolor": "white",
          "plot_bgcolor": "#E5ECF6",
          "polar": {
           "angularaxis": {
            "gridcolor": "white",
            "linecolor": "white",
            "ticks": ""
           },
           "bgcolor": "#E5ECF6",
           "radialaxis": {
            "gridcolor": "white",
            "linecolor": "white",
            "ticks": ""
           }
          },
          "scene": {
           "xaxis": {
            "backgroundcolor": "#E5ECF6",
            "gridcolor": "white",
            "gridwidth": 2,
            "linecolor": "white",
            "showbackground": true,
            "ticks": "",
            "zerolinecolor": "white"
           },
           "yaxis": {
            "backgroundcolor": "#E5ECF6",
            "gridcolor": "white",
            "gridwidth": 2,
            "linecolor": "white",
            "showbackground": true,
            "ticks": "",
            "zerolinecolor": "white"
           },
           "zaxis": {
            "backgroundcolor": "#E5ECF6",
            "gridcolor": "white",
            "gridwidth": 2,
            "linecolor": "white",
            "showbackground": true,
            "ticks": "",
            "zerolinecolor": "white"
           }
          },
          "shapedefaults": {
           "line": {
            "color": "#2a3f5f"
           }
          },
          "ternary": {
           "aaxis": {
            "gridcolor": "white",
            "linecolor": "white",
            "ticks": ""
           },
           "baxis": {
            "gridcolor": "white",
            "linecolor": "white",
            "ticks": ""
           },
           "bgcolor": "#E5ECF6",
           "caxis": {
            "gridcolor": "white",
            "linecolor": "white",
            "ticks": ""
           }
          },
          "title": {
           "x": 0.05
          },
          "xaxis": {
           "automargin": true,
           "gridcolor": "white",
           "linecolor": "white",
           "ticks": "",
           "title": {
            "standoff": 15
           },
           "zerolinecolor": "white",
           "zerolinewidth": 2
          },
          "yaxis": {
           "automargin": true,
           "gridcolor": "white",
           "linecolor": "white",
           "ticks": "",
           "title": {
            "standoff": 15
           },
           "zerolinecolor": "white",
           "zerolinewidth": 2
          }
         }
        },
        "width": 800,
        "xaxis": {
         "anchor": "y",
         "autorange": true,
         "domain": [
          0,
          1
         ],
         "range": [
          -0.5,
          9.5
         ],
         "tickmode": "array",
         "ticktext": [
          "Patrullaje policial en el sector solicitado",
          "Libadores",
          "Presencia policial",
          "Escándalo en espacio público",
          "Resguardo a personas que traslada valores a nivel local",
          "Registro de personas y/o vehículos con actitud sospechosa",
          "Escándalo en espacio privado",
          "Ficha de datos información",
          "Violencia contra la mujer o miembros del núcleo familiar psicológica",
          "Consumo de sustancias sujetas a fiscalización"
         ],
         "tickvals": [
          0,
          1,
          2,
          3,
          4,
          5,
          6,
          7,
          8,
          9,
          10,
          11,
          12,
          13,
          14,
          15,
          16,
          17,
          18,
          19,
          20,
          21,
          22,
          23,
          24,
          25,
          26,
          27,
          28,
          29
         ],
         "title": {
          "text": "Subtipo"
         },
         "type": "category"
        },
        "yaxis": {
         "anchor": "x",
         "autorange": true,
         "domain": [
          0,
          1
         ],
         "range": [
          0,
          779896.8421052631
         ],
         "title": {
          "text": "Incidente"
         },
         "type": "linear"
        }
       }
      },
      "image/png": "[encoded data removed]",
      "text/html": [
       "<div>                            <div id=\"94576acb-a8f0-44a9-85eb-6035f7b56b8b\" class=\"plotly-graph-div\" style=\"height:600px; width:800px;\"></div>            <script type=\"text/javascript\">                require([\"plotly\"], function(Plotly) {                    window.PLOTLYENV=window.PLOTLYENV || {};                                    if (document.getElementById(\"94576acb-a8f0-44a9-85eb-6035f7b56b8b\")) {                    Plotly.newPlot(                        \"94576acb-a8f0-44a9-85eb-6035f7b56b8b\",                        [{\"alignmentgroup\":\"True\",\"hovertemplate\":\"Subtipo=%{x}<br>Incidente=%{y}<extra></extra>\",\"legendgroup\":\"\",\"marker\":{\"color\":\"#636efa\",\"pattern\":{\"shape\":\"\"}},\"name\":\"\",\"offsetgroup\":\"\",\"orientation\":\"v\",\"showlegend\":false,\"textposition\":\"auto\",\"x\":[\"Patrullaje policial en el sector solicitado\",\"Libadores\",\"Presencia policial\",\"Esc\\u00e1ndalo en espacio p\\u00fablico\",\"Resguardo a personas que traslada valores a nivel local\",\"Registro de personas y/o veh\\u00edculos con actitud sospechosa\",\"Esc\\u00e1ndalo en espacio privado\",\"Ficha de datos informaci\\u00f3n\",\"Violencia contra la mujer o miembros del n\\u00facleo familiar psicol\\u00f3gica\",\"Consumo de sustancias sujetas a fiscalizaci\\u00f3n\"],\"xaxis\":\"x\",\"y\":[740902,297751,163761,130721,122482,75693,68858,56427,54916,47989],\"yaxis\":\"y\",\"type\":\"bar\"}],                        {\"template\":{\"data\":{\"histogram2dcontour\":[{\"type\":\"histogram2dcontour\",\"colorbar\":{\"outlinewidth\":0,\"ticks\":\"\"},\"colorscale\":[[0.0,\"#0d0887\"],[0.1111111111111111,\"#46039f\"],[0.2222222222222222,\"#7201a8\"],[0.3333333333333333,\"#9c179e\"],[0.4444444444444444,\"#bd3786\"],[0.5555555555555556,\"#d8576b\"],[0.6666666666666666,\"#ed7953\"],[0.7777777777777778,\"#fb9f3a\"],[0.8888888888888888,\"#fdca26\"],[1.0,\"#f0f921\"]]}],\"choropleth\":[{\"type\":\"choropleth\",\"colorbar\":{\"outlinewidth\":0,\"ticks\":\"\"}}],\"histogram2d\":[{\"type\":\"histogram2d\",\"colorbar\":{\"outlinewidth\":0,\"ticks\":\"\"},\"colorscale\":[[0.0,\"#0d0887\"],[0.1111111111111111,\"#46039f\"],[0.2222222222222222,\"#7201a8\"],[0.3333333333333333,\"#9c179e\"],[0.4444444444444444,\"#bd3786\"],[0.5555555555555556,\"#d8576b\"],[0.6666666666666666,\"#ed7953\"],[0.7777777777777778,\"#fb9f3a\"],[0.8888888888888888,\"#fdca26\"],[1.0,\"#f0f921\"]]}],\"heatmap\":[{\"type\":\"heatmap\",\"colorbar\":{\"outlinewidth\":0,\"ticks\":\"\"},\"colorscale\":[[0.0,\"#0d0887\"],[0.1111111111111111,\"#46039f\"],[0.2222222222222222,\"#7201a8\"],[0.3333333333333333,\"#9c179e\"],[0.4444444444444444,\"#bd3786\"],[0.5555555555555556,\"#d8576b\"],[0.6666666666666666,\"#ed7953\"],[0.7777777777777778,\"#fb9f3a\"],[0.8888888888888888,\"#fdca26\"],[1.0,\"#f0f921\"]]}],\"heatmapgl\":[{\"type\":\"heatmapgl\",\"colorbar\":{\"outlinewidth\":0,\"ticks\":\"\"},\"colorscale\":[[0.0,\"#0d0887\"],[0.1111111111111111,\"#46039f\"],[0.2222222222222222,\"#7201a8\"],[0.3333333333333333,\"#9c179e\"],[0.4444444444444444,\"#bd3786\"],[0.5555555555555556,\"#d8576b\"],[0.6666666666666666,\"#ed7953\"],[0.7777777777777778,\"#fb9f3a\"],[0.8888888888888888,\"#fdca26\"],[1.0,\"#f0f921\"]]}],\"contourcarpet\":[{\"type\":\"contourcarpet\",\"colorbar\":{\"outlinewidth\":0,\"ticks\":\"\"}}],\"contour\":[{\"type\":\"contour\",\"colorbar\":{\"outlinewidth\":0,\"ticks\":\"\"},\"colorscale\":[[0.0,\"#0d0887\"],[0.1111111111111111,\"#46039f\"],[0.2222222222222222,\"#7201a8\"],[0.3333333333333333,\"#9c179e\"],[0.4444444444444444,\"#bd3786\"],[0.5555555555555556,\"#d8576b\"],[0.6666666666666666,\"#ed7953\"],[0.7777777777777778,\"#fb9f3a\"],[0.8888888888888888,\"#fdca26\"],[1.0,\"#f0f921\"]]}],\"surface\":[{\"type\":\"surface\",\"colorbar\":{\"outlinewidth\":0,\"ticks\":\"\"},\"colorscale\":[[0.0,\"#0d0887\"],[0.1111111111111111,\"#46039f\"],[0.2222222222222222,\"#7201a8\"],[0.3333333333333333,\"#9c179e\"],[0.4444444444444444,\"#bd3786\"],[0.5555555555555556,\"#d8576b\"],[0.6666666666666666,\"#ed7953\"],[0.7777777777777778,\"#fb9f3a\"],[0.8888888888888888,\"#fdca26\"],[1.0,\"#f0f921\"]]}],\"mesh3d\":[{\"type\":\"mesh3d\",\"colorbar\":{\"outlinewidth\":0,\"ticks\":\"\"}}],\"scatter\":[{\"fillpattern\":{\"fillmode\":\"overlay\",\"size\":10,\"solidity\":0.2},\"type\":\"scatter\"}],\"parcoords\":[{\"type\":\"parcoords\",\"line\":{\"colorbar\":{\"outlinewidth\":0,\"ticks\":\"\"}}}],\"scatterpolargl\":[{\"type\":\"scatterpolargl\",\"marker\":{\"colorbar\":{\"outlinewidth\":0,\"ticks\":\"\"}}}],\"bar\":[{\"error_x\":{\"color\":\"#2a3f5f\"},\"error_y\":{\"color\":\"#2a3f5f\"},\"marker\":{\"line\":{\"color\":\"#E5ECF6\",\"width\":0.5},\"pattern\":{\"fillmode\":\"overlay\",\"size\":10,\"solidity\":0.2}},\"type\":\"bar\"}],\"scattergeo\":[{\"type\":\"scattergeo\",\"marker\":{\"colorbar\":{\"outlinewidth\":0,\"ticks\":\"\"}}}],\"scatterpolar\":[{\"type\":\"scatterpolar\",\"marker\":{\"colorbar\":{\"outlinewidth\":0,\"ticks\":\"\"}}}],\"histogram\":[{\"marker\":{\"pattern\":{\"fillmode\":\"overlay\",\"size\":10,\"solidity\":0.2}},\"type\":\"histogram\"}],\"scattergl\":[{\"type\":\"scattergl\",\"marker\":{\"colorbar\":{\"outlinewidth\":0,\"ticks\":\"\"}}}],\"scatter3d\":[{\"type\":\"scatter3d\",\"line\":{\"colorbar\":{\"outlinewidth\":0,\"ticks\":\"\"}},\"marker\":{\"colorbar\":{\"outlinewidth\":0,\"ticks\":\"\"}}}],\"scattermapbox\":[{\"type\":\"scattermapbox\",\"marker\":{\"colorbar\":{\"outlinewidth\":0,\"ticks\":\"\"}}}],\"scatterternary\":[{\"type\":\"scatterternary\",\"marker\":{\"colorbar\":{\"outlinewidth\":0,\"ticks\":\"\"}}}],\"scattercarpet\":[{\"type\":\"scattercarpet\",\"marker\":{\"colorbar\":{\"outlinewidth\":0,\"ticks\":\"\"}}}],\"carpet\":[{\"aaxis\":{\"endlinecolor\":\"#2a3f5f\",\"gridcolor\":\"white\",\"linecolor\":\"white\",\"minorgridcolor\":\"white\",\"startlinecolor\":\"#2a3f5f\"},\"baxis\":{\"endlinecolor\":\"#2a3f5f\",\"gridcolor\":\"white\",\"linecolor\":\"white\",\"minorgridcolor\":\"white\",\"startlinecolor\":\"#2a3f5f\"},\"type\":\"carpet\"}],\"table\":[{\"cells\":{\"fill\":{\"color\":\"#EBF0F8\"},\"line\":{\"color\":\"white\"}},\"header\":{\"fill\":{\"color\":\"#C8D4E3\"},\"line\":{\"color\":\"white\"}},\"type\":\"table\"}],\"barpolar\":[{\"marker\":{\"line\":{\"color\":\"#E5ECF6\",\"width\":0.5},\"pattern\":{\"fillmode\":\"overlay\",\"size\":10,\"solidity\":0.2}},\"type\":\"barpolar\"}],\"pie\":[{\"automargin\":true,\"type\":\"pie\"}]},\"layout\":{\"autotypenumbers\":\"strict\",\"colorway\":[\"#636efa\",\"#EF553B\",\"#00cc96\",\"#ab63fa\",\"#FFA15A\",\"#19d3f3\",\"#FF6692\",\"#B6E880\",\"#FF97FF\",\"#FECB52\"],\"font\":{\"color\":\"#2a3f5f\"},\"hovermode\":\"closest\",\"hoverlabel\":{\"align\":\"left\"},\"paper_bgcolor\":\"white\",\"plot_bgcolor\":\"#E5ECF6\",\"polar\":{\"bgcolor\":\"#E5ECF6\",\"angularaxis\":{\"gridcolor\":\"white\",\"linecolor\":\"white\",\"ticks\":\"\"},\"radialaxis\":{\"gridcolor\":\"white\",\"linecolor\":\"white\",\"ticks\":\"\"}},\"ternary\":{\"bgcolor\":\"#E5ECF6\",\"aaxis\":{\"gridcolor\":\"white\",\"linecolor\":\"white\",\"ticks\":\"\"},\"baxis\":{\"gridcolor\":\"white\",\"linecolor\":\"white\",\"ticks\":\"\"},\"caxis\":{\"gridcolor\":\"white\",\"linecolor\":\"white\",\"ticks\":\"\"}},\"coloraxis\":{\"colorbar\":{\"outlinewidth\":0,\"ticks\":\"\"}},\"colorscale\":{\"sequential\":[[0.0,\"#0d0887\"],[0.1111111111111111,\"#46039f\"],[0.2222222222222222,\"#7201a8\"],[0.3333333333333333,\"#9c179e\"],[0.4444444444444444,\"#bd3786\"],[0.5555555555555556,\"#d8576b\"],[0.6666666666666666,\"#ed7953\"],[0.7777777777777778,\"#fb9f3a\"],[0.8888888888888888,\"#fdca26\"],[1.0,\"#f0f921\"]],\"sequentialminus\":[[0.0,\"#0d0887\"],[0.1111111111111111,\"#46039f\"],[0.2222222222222222,\"#7201a8\"],[0.3333333333333333,\"#9c179e\"],[0.4444444444444444,\"#bd3786\"],[0.5555555555555556,\"#d8576b\"],[0.6666666666666666,\"#ed7953\"],[0.7777777777777778,\"#fb9f3a\"],[0.8888888888888888,\"#fdca26\"],[1.0,\"#f0f921\"]],\"diverging\":[[0,\"#8e0152\"],[0.1,\"#c51b7d\"],[0.2,\"#de77ae\"],[0.3,\"#f1b6da\"],[0.4,\"#fde0ef\"],[0.5,\"#f7f7f7\"],[0.6,\"#e6f5d0\"],[0.7,\"#b8e186\"],[0.8,\"#7fbc41\"],[0.9,\"#4d9221\"],[1,\"#276419\"]]},\"xaxis\":{\"gridcolor\":\"white\",\"linecolor\":\"white\",\"ticks\":\"\",\"title\":{\"standoff\":15},\"zerolinecolor\":\"white\",\"automargin\":true,\"zerolinewidth\":2},\"yaxis\":{\"gridcolor\":\"white\",\"linecolor\":\"white\",\"ticks\":\"\",\"title\":{\"standoff\":15},\"zerolinecolor\":\"white\",\"automargin\":true,\"zerolinewidth\":2},\"scene\":{\"xaxis\":{\"backgroundcolor\":\"#E5ECF6\",\"gridcolor\":\"white\",\"linecolor\":\"white\",\"showbackground\":true,\"ticks\":\"\",\"zerolinecolor\":\"white\",\"gridwidth\":2},\"yaxis\":{\"backgroundcolor\":\"#E5ECF6\",\"gridcolor\":\"white\",\"linecolor\":\"white\",\"showbackground\":true,\"ticks\":\"\",\"zerolinecolor\":\"white\",\"gridwidth\":2},\"zaxis\":{\"backgroundcolor\":\"#E5ECF6\",\"gridcolor\":\"white\",\"linecolor\":\"white\",\"showbackground\":true,\"ticks\":\"\",\"zerolinecolor\":\"white\",\"gridwidth\":2}},\"shapedefaults\":{\"line\":{\"color\":\"#2a3f5f\"}},\"annotationdefaults\":{\"arrowcolor\":\"#2a3f5f\",\"arrowhead\":0,\"arrowwidth\":1},\"geo\":{\"bgcolor\":\"white\",\"landcolor\":\"#E5ECF6\",\"subunitcolor\":\"white\",\"showland\":true,\"showlakes\":true,\"lakecolor\":\"white\"},\"title\":{\"x\":0.05},\"mapbox\":{\"style\":\"light\"}}},\"xaxis\":{\"anchor\":\"y\",\"domain\":[0.0,1.0],\"title\":{\"text\":\"Subtipo\"},\"tickmode\":\"array\",\"tickvals\":[0,1,2,3,4,5,6,7,8,9,10,11,12,13,14,15,16,17,18,19,20,21,22,23,24,25,26,27,28,29],\"ticktext\":[\"Patrullaje policial en el sector solicitado\",\"Libadores\",\"Presencia policial\",\"Esc\\u00e1ndalo en espacio p\\u00fablico\",\"Resguardo a personas que traslada valores a nivel local\",\"Registro de personas y/o veh\\u00edculos con actitud sospechosa\",\"Esc\\u00e1ndalo en espacio privado\",\"Ficha de datos informaci\\u00f3n\",\"Violencia contra la mujer o miembros del n\\u00facleo familiar psicol\\u00f3gica\",\"Consumo de sustancias sujetas a fiscalizaci\\u00f3n\"]},\"yaxis\":{\"anchor\":\"x\",\"domain\":[0.0,1.0],\"title\":{\"text\":\"Incidente\"}},\"legend\":{\"tracegroupgap\":0},\"margin\":{\"t\":60},\"barmode\":\"relative\",\"height\":600,\"width\":800},                        {\"responsive\": true}                    ).then(function(){\n",
       "                            \n",
       "var gd = document.getElementById('94576acb-a8f0-44a9-85eb-6035f7b56b8b');\n",
       "var x = new MutationObserver(function (mutations, observer) {{\n",
       "        var display = window.getComputedStyle(gd).display;\n",
       "        if (!display || display === 'none') {{\n",
       "            console.log([gd, 'removed!']);\n",
       "            Plotly.purge(gd);\n",
       "            observer.disconnect();\n",
       "        }}\n",
       "}});\n",
       "\n",
       "// Listen for the removal of the full notebook cells\n",
       "var notebookContainer = gd.closest('#notebook-container');\n",
       "if (notebookContainer) {{\n",
       "    x.observe(notebookContainer, {childList: true});\n",
       "}}\n",
       "\n",
       "// Listen for the clearing of the current output cell\n",
       "var outputEl = gd.closest('.output');\n",
       "if (outputEl) {{\n",
       "    x.observe(outputEl, {childList: true});\n",
       "}}\n",
       "\n",
       "                        })                };                });            </script>        </div>"
      ]
     },
     "metadata": {},
     "output_type": "display_data"
    }
   ],
   "source": [
    "fig = px.bar(data_total_20, x='Subtipo', y='Incidente', width=800, height=600)\n",
    "\n",
    "length = 30\n",
    "\n",
    "# overwrite tick labels    \n",
    "fig.update_layout(\n",
    "    xaxis = {\n",
    "     'tickmode': 'array',\n",
    "     'tickvals': list(range(length)),\n",
    "     'ticktext': data_total_20['Subtipo'].str.slice().tolist(),\n",
    "    }\n",
    ")\n",
    "fig.show()\n",
    "\n"
   ]
  },
  {
   "cell_type": "markdown",
   "id": "hydraulic-validity",
   "metadata": {},
   "source": [
    "## Incidentes Por Parroquia"
   ]
  },
  {
   "cell_type": "code",
   "execution_count": 26,
   "id": "macro-pound",
   "metadata": {},
   "outputs": [],
   "source": [
    "data_1 = DATA.groupby(['COD_Provincia', 'COD_Canton', 'COD_Parroquia', 'Servicio', 'Subtipo']).agg({'Incidente':'sum'}).reset_index()\n",
    "data_1 = data_1.sort_values(by=\"Incidente\", ascending = False)"
   ]
  },
  {
   "cell_type": "code",
   "execution_count": 27,
   "id": "confused-kingston",
   "metadata": {},
   "outputs": [],
   "source": [
    "data_parroquias = pd.merge(data_1, Pobl_Parroquias, how='left', on='COD_Parroquia')\n",
    "data_parroquias['Rango'] = data_parroquias.Incidente*100/data_parroquias.year_2020"
   ]
  },
  {
   "cell_type": "code",
   "execution_count": 28,
   "id": "allied-diving",
   "metadata": {},
   "outputs": [
    {
     "data": {
      "text/html": [
       "<div>\n",
       "<style scoped>\n",
       "    .dataframe tbody tr th:only-of-type {\n",
       "        vertical-align: middle;\n",
       "    }\n",
       "\n",
       "    .dataframe tbody tr th {\n",
       "        vertical-align: top;\n",
       "    }\n",
       "\n",
       "    .dataframe thead th {\n",
       "        text-align: right;\n",
       "    }\n",
       "</style>\n",
       "<table border=\"1\" class=\"dataframe\">\n",
       "  <thead>\n",
       "    <tr style=\"text-align: right;\">\n",
       "      <th></th>\n",
       "      <th>COD_Provincia</th>\n",
       "      <th>COD_Canton</th>\n",
       "      <th>COD_Parroquia</th>\n",
       "      <th>Servicio</th>\n",
       "      <th>Subtipo</th>\n",
       "      <th>Incidente</th>\n",
       "      <th>Provincia</th>\n",
       "      <th>Canton</th>\n",
       "      <th>Parroquia</th>\n",
       "      <th>year_2020</th>\n",
       "      <th>Rango</th>\n",
       "    </tr>\n",
       "  </thead>\n",
       "  <tbody>\n",
       "    <tr>\n",
       "      <th>6747</th>\n",
       "      <td>21</td>\n",
       "      <td>2105</td>\n",
       "      <td>210552</td>\n",
       "      <td>Gestión Sanitaria</td>\n",
       "      <td>Intoxicaciones / envenenamiento</td>\n",
       "      <td>36</td>\n",
       "      <td>SUCUMBIOS</td>\n",
       "      <td>SUCUMBIOS</td>\n",
       "      <td>LA SOFIA</td>\n",
       "      <td>117.0</td>\n",
       "      <td>30.769231</td>\n",
       "    </tr>\n",
       "    <tr>\n",
       "      <th>1175</th>\n",
       "      <td>15</td>\n",
       "      <td>1507</td>\n",
       "      <td>150750</td>\n",
       "      <td>Gestión Sanitaria</td>\n",
       "      <td>Transporte secundario</td>\n",
       "      <td>318</td>\n",
       "      <td>NAPO</td>\n",
       "      <td>QUIJOS</td>\n",
       "      <td>BAEZA</td>\n",
       "      <td>2141.0</td>\n",
       "      <td>14.852872</td>\n",
       "    </tr>\n",
       "    <tr>\n",
       "      <th>1377</th>\n",
       "      <td>22</td>\n",
       "      <td>2203</td>\n",
       "      <td>220355</td>\n",
       "      <td>Seguridad Ciudadana</td>\n",
       "      <td>Presencia policial</td>\n",
       "      <td>268</td>\n",
       "      <td>ORELLANA</td>\n",
       "      <td>JOYA DE LOS SACHAS</td>\n",
       "      <td>LAGO SAN PEDRO</td>\n",
       "      <td>1948.0</td>\n",
       "      <td>13.757700</td>\n",
       "    </tr>\n",
       "    <tr>\n",
       "      <th>3453</th>\n",
       "      <td>15</td>\n",
       "      <td>1504</td>\n",
       "      <td>150451</td>\n",
       "      <td>Seguridad Ciudadana</td>\n",
       "      <td>Presencia policial</td>\n",
       "      <td>88</td>\n",
       "      <td>NAPO</td>\n",
       "      <td>EL CHACO</td>\n",
       "      <td>GONZALO DIAZ DE PINEDA</td>\n",
       "      <td>682.0</td>\n",
       "      <td>12.903226</td>\n",
       "    </tr>\n",
       "    <tr>\n",
       "      <th>1479</th>\n",
       "      <td>7</td>\n",
       "      <td>702</td>\n",
       "      <td>70251</td>\n",
       "      <td>Seguridad Ciudadana</td>\n",
       "      <td>Patrullaje policial en el sector solicitado</td>\n",
       "      <td>245</td>\n",
       "      <td>EL ORO</td>\n",
       "      <td>ARENILLAS</td>\n",
       "      <td>CHACRAS</td>\n",
       "      <td>1918.0</td>\n",
       "      <td>12.773723</td>\n",
       "    </tr>\n",
       "  </tbody>\n",
       "</table>\n",
       "</div>"
      ],
      "text/plain": [
       "     COD_Provincia  COD_Canton  COD_Parroquia             Servicio  \\\n",
       "6747            21        2105         210552    Gestión Sanitaria   \n",
       "1175            15        1507         150750    Gestión Sanitaria   \n",
       "1377            22        2203         220355  Seguridad Ciudadana   \n",
       "3453            15        1504         150451  Seguridad Ciudadana   \n",
       "1479             7         702          70251  Seguridad Ciudadana   \n",
       "\n",
       "                                          Subtipo  Incidente  Provincia  \\\n",
       "6747              Intoxicaciones / envenenamiento         36  SUCUMBIOS   \n",
       "1175                        Transporte secundario        318      NAPO    \n",
       "1377                           Presencia policial        268   ORELLANA   \n",
       "3453                           Presencia policial         88      NAPO    \n",
       "1479  Patrullaje policial en el sector solicitado        245     EL ORO   \n",
       "\n",
       "                  Canton               Parroquia  year_2020      Rango  \n",
       "6747           SUCUMBIOS                LA SOFIA      117.0  30.769231  \n",
       "1175              QUIJOS                   BAEZA     2141.0  14.852872  \n",
       "1377  JOYA DE LOS SACHAS          LAGO SAN PEDRO     1948.0  13.757700  \n",
       "3453            EL CHACO  GONZALO DIAZ DE PINEDA      682.0  12.903226  \n",
       "1479           ARENILLAS                 CHACRAS     1918.0  12.773723  "
      ]
     },
     "execution_count": 28,
     "metadata": {},
     "output_type": "execute_result"
    }
   ],
   "source": [
    "data_parroquias.sort_values(by='Rango', ascending = False).head(5)"
   ]
  },
  {
   "cell_type": "code",
   "execution_count": 29,
   "id": "worldwide-hybrid",
   "metadata": {},
   "outputs": [
    {
     "data": {
      "text/html": [
       "<div>\n",
       "<style scoped>\n",
       "    .dataframe tbody tr th:only-of-type {\n",
       "        vertical-align: middle;\n",
       "    }\n",
       "\n",
       "    .dataframe tbody tr th {\n",
       "        vertical-align: top;\n",
       "    }\n",
       "\n",
       "    .dataframe thead th {\n",
       "        text-align: right;\n",
       "    }\n",
       "</style>\n",
       "<table border=\"1\" class=\"dataframe\">\n",
       "  <thead>\n",
       "    <tr style=\"text-align: right;\">\n",
       "      <th></th>\n",
       "      <th>COD_Provincia</th>\n",
       "      <th>COD_Canton</th>\n",
       "      <th>COD_Parroquia</th>\n",
       "      <th>Servicio</th>\n",
       "      <th>Subtipo</th>\n",
       "      <th>Incidente</th>\n",
       "      <th>Provincia</th>\n",
       "      <th>Canton</th>\n",
       "      <th>Parroquia</th>\n",
       "      <th>year_2020</th>\n",
       "      <th>Rango</th>\n",
       "    </tr>\n",
       "  </thead>\n",
       "  <tbody>\n",
       "    <tr>\n",
       "      <th>0</th>\n",
       "      <td>9</td>\n",
       "      <td>901</td>\n",
       "      <td>90150</td>\n",
       "      <td>Seguridad Ciudadana</td>\n",
       "      <td>Patrullaje policial en el sector solicitado</td>\n",
       "      <td>118398</td>\n",
       "      <td>GUAYAS</td>\n",
       "      <td>GUAYAQUIL</td>\n",
       "      <td>GUAYAQUIL</td>\n",
       "      <td>2654433.0</td>\n",
       "      <td>4.460388</td>\n",
       "    </tr>\n",
       "    <tr>\n",
       "      <th>1</th>\n",
       "      <td>17</td>\n",
       "      <td>1701</td>\n",
       "      <td>170150</td>\n",
       "      <td>Seguridad Ciudadana</td>\n",
       "      <td>Patrullaje policial en el sector solicitado</td>\n",
       "      <td>90703</td>\n",
       "      <td>PICHINCHA</td>\n",
       "      <td>QUITO</td>\n",
       "      <td>QUITO</td>\n",
       "      <td>2011388.0</td>\n",
       "      <td>4.509473</td>\n",
       "    </tr>\n",
       "    <tr>\n",
       "      <th>2</th>\n",
       "      <td>9</td>\n",
       "      <td>901</td>\n",
       "      <td>90150</td>\n",
       "      <td>Seguridad Ciudadana</td>\n",
       "      <td>Libadores</td>\n",
       "      <td>63261</td>\n",
       "      <td>GUAYAS</td>\n",
       "      <td>GUAYAQUIL</td>\n",
       "      <td>GUAYAQUIL</td>\n",
       "      <td>2654433.0</td>\n",
       "      <td>2.383221</td>\n",
       "    </tr>\n",
       "    <tr>\n",
       "      <th>3</th>\n",
       "      <td>17</td>\n",
       "      <td>1701</td>\n",
       "      <td>170150</td>\n",
       "      <td>Seguridad Ciudadana</td>\n",
       "      <td>Presencia policial</td>\n",
       "      <td>50770</td>\n",
       "      <td>PICHINCHA</td>\n",
       "      <td>QUITO</td>\n",
       "      <td>QUITO</td>\n",
       "      <td>2011388.0</td>\n",
       "      <td>2.524128</td>\n",
       "    </tr>\n",
       "    <tr>\n",
       "      <th>4</th>\n",
       "      <td>17</td>\n",
       "      <td>1701</td>\n",
       "      <td>170150</td>\n",
       "      <td>Seguridad Ciudadana</td>\n",
       "      <td>Libadores</td>\n",
       "      <td>46049</td>\n",
       "      <td>PICHINCHA</td>\n",
       "      <td>QUITO</td>\n",
       "      <td>QUITO</td>\n",
       "      <td>2011388.0</td>\n",
       "      <td>2.289414</td>\n",
       "    </tr>\n",
       "  </tbody>\n",
       "</table>\n",
       "</div>"
      ],
      "text/plain": [
       "  COD_Provincia  COD_Canton  COD_Parroquia             Servicio  \\\n",
       "0             9         901          90150  Seguridad Ciudadana   \n",
       "1            17        1701         170150  Seguridad Ciudadana   \n",
       "2             9         901          90150  Seguridad Ciudadana   \n",
       "3            17        1701         170150  Seguridad Ciudadana   \n",
       "4            17        1701         170150  Seguridad Ciudadana   \n",
       "\n",
       "                                       Subtipo  Incidente  Provincia  \\\n",
       "0  Patrullaje policial en el sector solicitado     118398     GUAYAS   \n",
       "1  Patrullaje policial en el sector solicitado      90703  PICHINCHA   \n",
       "2                                    Libadores      63261     GUAYAS   \n",
       "3                           Presencia policial      50770  PICHINCHA   \n",
       "4                                    Libadores      46049  PICHINCHA   \n",
       "\n",
       "      Canton  Parroquia  year_2020     Rango  \n",
       "0  GUAYAQUIL  GUAYAQUIL  2654433.0  4.460388  \n",
       "1      QUITO      QUITO  2011388.0  4.509473  \n",
       "2  GUAYAQUIL  GUAYAQUIL  2654433.0  2.383221  \n",
       "3      QUITO      QUITO  2011388.0  2.524128  \n",
       "4      QUITO      QUITO  2011388.0  2.289414  "
      ]
     },
     "execution_count": 29,
     "metadata": {},
     "output_type": "execute_result"
    }
   ],
   "source": [
    "data_parroquias.sort_values(by='Incidente', ascending = False).head(5)"
   ]
  },
  {
   "cell_type": "markdown",
   "id": "detailed-football",
   "metadata": {},
   "source": [
    "## Incidentes Por Cantón"
   ]
  },
  {
   "cell_type": "code",
   "execution_count": 47,
   "id": "vietnamese-compression",
   "metadata": {},
   "outputs": [],
   "source": [
    "data_2 = DATA.groupby(['COD_Provincia', 'COD_Canton','Servicio','Subtipo']).agg({'Incidente':'mean'}).reset_index()\n",
    "data_2 = data_2.sort_values(by=\"Incidente\", ascending = False)"
   ]
  },
  {
   "cell_type": "code",
   "execution_count": 48,
   "id": "registered-pledge",
   "metadata": {},
   "outputs": [
    {
     "data": {
      "text/html": [
       "<div>\n",
       "<style scoped>\n",
       "    .dataframe tbody tr th:only-of-type {\n",
       "        vertical-align: middle;\n",
       "    }\n",
       "\n",
       "    .dataframe tbody tr th {\n",
       "        vertical-align: top;\n",
       "    }\n",
       "\n",
       "    .dataframe thead th {\n",
       "        text-align: right;\n",
       "    }\n",
       "</style>\n",
       "<table border=\"1\" class=\"dataframe\">\n",
       "  <thead>\n",
       "    <tr style=\"text-align: right;\">\n",
       "      <th></th>\n",
       "      <th>COD_Provincia</th>\n",
       "      <th>COD_Canton</th>\n",
       "      <th>Servicio</th>\n",
       "      <th>Subtipo</th>\n",
       "      <th>Incidente</th>\n",
       "      <th>Provincia</th>\n",
       "      <th>Canton</th>\n",
       "      <th>year_2020</th>\n",
       "      <th>Rango</th>\n",
       "    </tr>\n",
       "  </thead>\n",
       "  <tbody>\n",
       "    <tr>\n",
       "      <th>14123</th>\n",
       "      <td>7</td>\n",
       "      <td>705</td>\n",
       "      <td>Seguridad Ciudadana</td>\n",
       "      <td>Escándalo en espacio público</td>\n",
       "      <td>1.0</td>\n",
       "      <td>EL ORO</td>\n",
       "      <td>CHILLA</td>\n",
       "      <td>2379</td>\n",
       "      <td>0.042034</td>\n",
       "    </tr>\n",
       "    <tr>\n",
       "      <th>14151</th>\n",
       "      <td>7</td>\n",
       "      <td>705</td>\n",
       "      <td>Gestión Sanitaria</td>\n",
       "      <td>Trastornos metabólicos</td>\n",
       "      <td>1.0</td>\n",
       "      <td>EL ORO</td>\n",
       "      <td>CHILLA</td>\n",
       "      <td>2379</td>\n",
       "      <td>0.042034</td>\n",
       "    </tr>\n",
       "    <tr>\n",
       "      <th>14149</th>\n",
       "      <td>7</td>\n",
       "      <td>705</td>\n",
       "      <td>Gestión Sanitaria</td>\n",
       "      <td>Problemas respiratorios / dificultad respiratoria</td>\n",
       "      <td>1.0</td>\n",
       "      <td>EL ORO</td>\n",
       "      <td>CHILLA</td>\n",
       "      <td>2379</td>\n",
       "      <td>0.042034</td>\n",
       "    </tr>\n",
       "    <tr>\n",
       "      <th>14148</th>\n",
       "      <td>7</td>\n",
       "      <td>705</td>\n",
       "      <td>Gestión Sanitaria</td>\n",
       "      <td>Problemas en el embarazo</td>\n",
       "      <td>1.0</td>\n",
       "      <td>EL ORO</td>\n",
       "      <td>CHILLA</td>\n",
       "      <td>2379</td>\n",
       "      <td>0.042034</td>\n",
       "    </tr>\n",
       "    <tr>\n",
       "      <th>14147</th>\n",
       "      <td>7</td>\n",
       "      <td>705</td>\n",
       "      <td>Gestión Sanitaria</td>\n",
       "      <td>Problemas digestivos</td>\n",
       "      <td>1.0</td>\n",
       "      <td>EL ORO</td>\n",
       "      <td>CHILLA</td>\n",
       "      <td>2379</td>\n",
       "      <td>0.042034</td>\n",
       "    </tr>\n",
       "  </tbody>\n",
       "</table>\n",
       "</div>"
      ],
      "text/plain": [
       "      COD_Provincia  COD_Canton             Servicio  \\\n",
       "14123             7         705  Seguridad Ciudadana   \n",
       "14151             7         705    Gestión Sanitaria   \n",
       "14149             7         705    Gestión Sanitaria   \n",
       "14148             7         705    Gestión Sanitaria   \n",
       "14147             7         705    Gestión Sanitaria   \n",
       "\n",
       "                                                 Subtipo  Incidente Provincia  \\\n",
       "14123                       Escándalo en espacio público        1.0    EL ORO   \n",
       "14151                             Trastornos metabólicos        1.0    EL ORO   \n",
       "14149  Problemas respiratorios / dificultad respiratoria        1.0    EL ORO   \n",
       "14148                           Problemas en el embarazo        1.0    EL ORO   \n",
       "14147                               Problemas digestivos        1.0    EL ORO   \n",
       "\n",
       "       Canton  year_2020     Rango  \n",
       "14123  CHILLA       2379  0.042034  \n",
       "14151  CHILLA       2379  0.042034  \n",
       "14149  CHILLA       2379  0.042034  \n",
       "14148  CHILLA       2379  0.042034  \n",
       "14147  CHILLA       2379  0.042034  "
      ]
     },
     "execution_count": 48,
     "metadata": {},
     "output_type": "execute_result"
    }
   ],
   "source": [
    "data_canton = pd.merge(data_2, Pobl_Cantones, how='left', on='COD_Canton')\n",
    "\n",
    "data_canton['Rango'] = data_canton.Incidente*100/data_canton.year_2020\n",
    "data_canton.sort_values(by='Rango', ascending = False).head(5)"
   ]
  },
  {
   "cell_type": "code",
   "execution_count": 72,
   "id": "b316d507-e94c-43ce-834f-704c2e3e751f",
   "metadata": {},
   "outputs": [
    {
     "data": {
      "text/html": [
       "<div>\n",
       "<style scoped>\n",
       "    .dataframe tbody tr th:only-of-type {\n",
       "        vertical-align: middle;\n",
       "    }\n",
       "\n",
       "    .dataframe tbody tr th {\n",
       "        vertical-align: top;\n",
       "    }\n",
       "\n",
       "    .dataframe thead th {\n",
       "        text-align: right;\n",
       "    }\n",
       "</style>\n",
       "<table border=\"1\" class=\"dataframe\">\n",
       "  <thead>\n",
       "    <tr style=\"text-align: right;\">\n",
       "      <th></th>\n",
       "      <th>Provincia</th>\n",
       "      <th>Servicio</th>\n",
       "      <th>Incidente</th>\n",
       "    </tr>\n",
       "  </thead>\n",
       "  <tbody>\n",
       "    <tr>\n",
       "      <th>0</th>\n",
       "      <td>Azuay</td>\n",
       "      <td>Gestión Sanitaria</td>\n",
       "      <td>519.0</td>\n",
       "    </tr>\n",
       "    <tr>\n",
       "      <th>1</th>\n",
       "      <td>Azuay</td>\n",
       "      <td>Gestión de Riesgos</td>\n",
       "      <td>106.0</td>\n",
       "    </tr>\n",
       "    <tr>\n",
       "      <th>2</th>\n",
       "      <td>Azuay</td>\n",
       "      <td>Gestión de Siniestros</td>\n",
       "      <td>157.0</td>\n",
       "    </tr>\n",
       "    <tr>\n",
       "      <th>3</th>\n",
       "      <td>Azuay</td>\n",
       "      <td>Seguridad Ciudadana</td>\n",
       "      <td>790.0</td>\n",
       "    </tr>\n",
       "    <tr>\n",
       "      <th>4</th>\n",
       "      <td>Azuay</td>\n",
       "      <td>Servicio Militar</td>\n",
       "      <td>58.0</td>\n",
       "    </tr>\n",
       "    <tr>\n",
       "      <th>...</th>\n",
       "      <td>...</td>\n",
       "      <td>...</td>\n",
       "      <td>...</td>\n",
       "    </tr>\n",
       "    <tr>\n",
       "      <th>167</th>\n",
       "      <td>Zonas no delimitadas</td>\n",
       "      <td>Gestión de Riesgos</td>\n",
       "      <td>3.0</td>\n",
       "    </tr>\n",
       "    <tr>\n",
       "      <th>168</th>\n",
       "      <td>Zonas no delimitadas</td>\n",
       "      <td>Gestión de Siniestros</td>\n",
       "      <td>5.0</td>\n",
       "    </tr>\n",
       "    <tr>\n",
       "      <th>169</th>\n",
       "      <td>Zonas no delimitadas</td>\n",
       "      <td>Seguridad Ciudadana</td>\n",
       "      <td>66.0</td>\n",
       "    </tr>\n",
       "    <tr>\n",
       "      <th>170</th>\n",
       "      <td>Zonas no delimitadas</td>\n",
       "      <td>Servicios Municipales</td>\n",
       "      <td>6.0</td>\n",
       "    </tr>\n",
       "    <tr>\n",
       "      <th>171</th>\n",
       "      <td>Zonas no delimitadas</td>\n",
       "      <td>Tránsito y Movilidad</td>\n",
       "      <td>13.0</td>\n",
       "    </tr>\n",
       "  </tbody>\n",
       "</table>\n",
       "<p>172 rows × 3 columns</p>\n",
       "</div>"
      ],
      "text/plain": [
       "                Provincia               Servicio  Incidente\n",
       "0                   Azuay      Gestión Sanitaria      519.0\n",
       "1                   Azuay     Gestión de Riesgos      106.0\n",
       "2                   Azuay  Gestión de Siniestros      157.0\n",
       "3                   Azuay    Seguridad Ciudadana      790.0\n",
       "4                   Azuay       Servicio Militar       58.0\n",
       "..                    ...                    ...        ...\n",
       "167  Zonas no delimitadas     Gestión de Riesgos        3.0\n",
       "168  Zonas no delimitadas  Gestión de Siniestros        5.0\n",
       "169  Zonas no delimitadas    Seguridad Ciudadana       66.0\n",
       "170  Zonas no delimitadas  Servicios Municipales        6.0\n",
       "171  Zonas no delimitadas   Tránsito y Movilidad       13.0\n",
       "\n",
       "[172 rows x 3 columns]"
      ]
     },
     "execution_count": 72,
     "metadata": {},
     "output_type": "execute_result"
    }
   ],
   "source": [
    "data_canton_small = data_canton.groupby(['Provincia','Servicio']).agg({'Incidente':'sum'}).reset_index()\n",
    "data_canton_small['Provincia'] = data_canton_small['Provincia'].str.capitalize()\n",
    "\n",
    "data_canton_small"
   ]
  },
  {
   "cell_type": "code",
   "execution_count": 73,
   "id": "11efb35c-cd75-4706-a3ca-ac14eedcb932",
   "metadata": {},
   "outputs": [],
   "source": [
    "data_canton_pivot = data_canton_small.pivot(index='Provincia', columns='Servicio', values='Incidente')\n",
    "\n",
    "data_canton_pivot_ = data_canton_pivot.reindex(data_canton_pivot.sum().sort_values(ascending = False).index, axis = 1)\n",
    "data_canton_pivot_ = data_canton_pivot_.reindex(data_canton_pivot_.sum(axis = 1).sort_values(ascending = False).index)\n"
   ]
  },
  {
   "cell_type": "code",
   "execution_count": 78,
   "id": "bound-colombia",
   "metadata": {},
   "outputs": [
    {
     "data": {
      "text/plain": [
       "[Text(0.5, 34.859374999999986, 'SECTOR'),\n",
       " Text(43.85937499999999, 0.5, 'COUNTY')]"
      ]
     },
     "execution_count": 78,
     "metadata": {},
     "output_type": "execute_result"
    },
    {
     "data": {
      "image/png": "[encoded data removed]",
      "text/plain": [
       "<Figure size 600x600 with 2 Axes>"
      ]
     },
     "metadata": {},
     "output_type": "display_data"
    }
   ],
   "source": [
    "plt.figure(figsize=(6, 6))\n",
    "\n",
    "sns.set(font_scale = 0.8)\n",
    "\n",
    "ax = sns.heatmap(data_canton_pivot_, cmap=\"Spectral_r\", linewidths = .5)\n",
    "ax.set(xlabel='SECTOR', ylabel='COUNTY')\n"
   ]
  },
  {
   "cell_type": "code",
   "execution_count": null,
   "id": "canadian-investment",
   "metadata": {},
   "outputs": [],
   "source": []
  },
  {
   "cell_type": "code",
   "execution_count": null,
   "id": "rising-inventory",
   "metadata": {},
   "outputs": [],
   "source": []
  }
 ],
 "metadata": {
  "kernelspec": {
   "display_name": "Python 3 (ipykernel)",
   "language": "python",
   "name": "python3"
  },
  "language_info": {
   "codemirror_mode": {
    "name": "ipython",
    "version": 3
   },
   "file_extension": ".py",
   "mimetype": "text/x-python",
   "name": "python",
   "nbconvert_exporter": "python",
   "pygments_lexer": "ipython3",
   "version": "3.7.0"
  }
 },
 "nbformat": 4,
 "nbformat_minor": 5
}
